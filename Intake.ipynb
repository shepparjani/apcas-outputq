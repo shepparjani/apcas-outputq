{
 "cells": [
  {
   "cell_type": "code",
   "execution_count": 6,
   "id": "dbabaa60",
   "metadata": {},
   "outputs": [
    {
     "data": {
      "text/html": [
       "<div>\n",
       "<style scoped>\n",
       "    .dataframe tbody tr th:only-of-type {\n",
       "        vertical-align: middle;\n",
       "    }\n",
       "\n",
       "    .dataframe tbody tr th {\n",
       "        vertical-align: top;\n",
       "    }\n",
       "\n",
       "    .dataframe thead th {\n",
       "        text-align: right;\n",
       "    }\n",
       "</style>\n",
       "<table border=\"1\" class=\"dataframe\">\n",
       "  <thead>\n",
       "    <tr style=\"text-align: right;\">\n",
       "      <th></th>\n",
       "      <th>Veteran’s Name:</th>\n",
       "      <th>John Smith</th>\n",
       "    </tr>\n",
       "  </thead>\n",
       "  <tbody>\n",
       "    <tr>\n",
       "      <th>0</th>\n",
       "      <td>VA File Number:</td>\n",
       "      <td>123456789</td>\n",
       "    </tr>\n",
       "    <tr>\n",
       "      <th>1</th>\n",
       "      <td>Date of Evidence Review:</td>\n",
       "      <td>03/01/2022</td>\n",
       "    </tr>\n",
       "  </tbody>\n",
       "</table>\n",
       "</div>"
      ],
      "text/plain": [
       "            Veteran’s Name:  John Smith\n",
       "0           VA File Number:   123456789\n",
       "1  Date of Evidence Review:  03/01/2022"
      ]
     },
     "execution_count": 6,
     "metadata": {},
     "output_type": "execute_result"
    }
   ],
   "source": [
    "import tabula\n",
    "\n",
    "file1 = \"assets/Asthma_ERSS.pdf\"\n",
    "table = tabula.read_pdf(file1,pages=1)\n",
    "table[0]"
   ]
  },
  {
   "cell_type": "code",
   "execution_count": 8,
   "id": "6b7c77c5",
   "metadata": {},
   "outputs": [
    {
     "name": "stdout",
     "output_type": "stream",
     "text": [
      "                   Unnamed: 0  Unnamed: 1  \\\n",
      "0                 KEY TERM(S)        VBMS   \n",
      "1                         NaN      UPLOAD   \n",
      "2                         NaN        DATE   \n",
      "3                 Afghanistan  06/01/2017   \n",
      "4                         NaN         NaN   \n",
      "5  Afghanistan Campaign Medal  06/01/2017   \n",
      "6                         NaN         NaN   \n",
      "7        United Arab Emirates  02/02/2006   \n",
      "8        United Arab Emirates  02/01/2005   \n",
      "\n",
      "                 Relevant Military Service Locations  \\\n",
      "0                                      DOCUMENT PAGE   \n",
      "1                                                NaN   \n",
      "2                                                NaN   \n",
      "3  DD 214, Certificate of Release or Discharge fr...   \n",
      "4                                        Active Duty   \n",
      "5  DD 214, Certificate of Release or Discharge fr...   \n",
      "6                                        Active Duty   \n",
      "7                                          VA Memo 1   \n",
      "8                                          VA Memo 1   \n",
      "\n",
      "                              Unnamed: 2  \n",
      "0                            DOCUMENT ID  \n",
      "1                                    NaN  \n",
      "2                                    NaN  \n",
      "3  {A1B2345-6789-1C23-D4E5-6FG789H1JK23}  \n",
      "4                                    NaN  \n",
      "5  {A1B2345-6789-1C23-D4E5-6FG789H1JK23}  \n",
      "6                                    NaN  \n",
      "7  {A1B2345-6789-1C23-D4E5-6FG789H1JK23}  \n",
      "8  {A1B2345-6789-1C23-D4E5-6FG789H1JK23}  \n"
     ]
    }
   ],
   "source": [
    "file3 = \"assets/Asthma_ERSS.pdf\"\n",
    "tables = tabula.read_pdf(file3 ,pages=2, multiple_tables=True)\n",
    "print(tables[0])\n"
   ]
  },
  {
   "cell_type": "code",
   "execution_count": null,
   "id": "6af93990",
   "metadata": {},
   "outputs": [],
   "source": []
  }
 ],
 "metadata": {
  "kernelspec": {
   "display_name": "Python 3 (ipykernel)",
   "language": "python",
   "name": "python3"
  },
  "language_info": {
   "codemirror_mode": {
    "name": "ipython",
    "version": 3
   },
   "file_extension": ".py",
   "mimetype": "text/x-python",
   "name": "python",
   "nbconvert_exporter": "python",
   "pygments_lexer": "ipython3",
   "version": "3.9.7"
  }
 },
 "nbformat": 4,
 "nbformat_minor": 5
}
